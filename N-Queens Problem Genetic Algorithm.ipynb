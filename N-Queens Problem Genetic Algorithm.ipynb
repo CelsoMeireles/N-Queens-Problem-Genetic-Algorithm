{
 "cells": [
  {
   "cell_type": "markdown",
   "metadata": {},
   "source": [
    "# N-Queens Problem"
   ]
  },
  {
   "cell_type": "markdown",
   "metadata": {},
   "source": [
    "### Definitions and functions"
   ]
  },
  {
   "cell_type": "code",
   "execution_count": 1,
   "metadata": {},
   "outputs": [],
   "source": [
    "# Imports\n",
    "import random\n",
    "import math\n",
    "import matplotlib.pyplot as plt\n",
    "import copy"
   ]
  },
  {
   "cell_type": "code",
   "execution_count": 2,
   "metadata": {},
   "outputs": [],
   "source": [
    "# Function to create an Empty Board\n",
    "def emptyChessBoard():\n",
    "    return [0] * chessBoardSize * chessBoardSize"
   ]
  },
  {
   "cell_type": "code",
   "execution_count": 3,
   "metadata": {},
   "outputs": [],
   "source": [
    "# Function to create a Random Chess Board\n",
    "def randomChessBoard():\n",
    "    randChessBoard = emptyChessBoard()\n",
    "    for x in range(random.randrange(maxRandomQueens)):\n",
    "        randChessBoard[random.randrange(chessBoardSize*chessBoardSize)] = 1\n",
    "    return randChessBoard"
   ]
  },
  {
   "cell_type": "code",
   "execution_count": 4,
   "metadata": {},
   "outputs": [],
   "source": [
    "# Function to create a Full Random Chess Board\n",
    "def fullRandomChessBoard():\n",
    "    randChessBoard = emptyChessBoard()\n",
    "    for x in range(chessBoardSize):\n",
    "        while True:\n",
    "            randPosition = random.randrange(chessBoardSize*chessBoardSize)\n",
    "            if randChessBoard[randPosition] == 0:\n",
    "                randChessBoard[randPosition] = 1\n",
    "                break            \n",
    "    return randChessBoard"
   ]
  },
  {
   "cell_type": "code",
   "execution_count": 5,
   "metadata": {},
   "outputs": [],
   "source": [
    "# Function to create a Valid Random Chess Board\n",
    "def validRandomChessBoard():\n",
    "    while True:\n",
    "        randChessBoard = randomChessBoard()\n",
    "        if isConstraintSatisfactory(randChessBoard):\n",
    "            return randChessBoard"
   ]
  },
  {
   "cell_type": "code",
   "execution_count": 6,
   "metadata": {},
   "outputs": [],
   "source": [
    "# Function to print the Board\n",
    "def printChessBoard(chessBoard):\n",
    "    boardSize = int(math.sqrt(len(chessBoard)))\n",
    "    boardElement = 0\n",
    "    for x in chessBoard:\n",
    "        printBoard = lambda i: '|_|' if str(i) == '0' else '|X|'\n",
    "        boardElement += 1\n",
    "        if boardElement % boardSize == 0:\n",
    "            print(\"%s\" %(printBoard(x)))\n",
    "        else:\n",
    "            print(\"%s\" %(printBoard(x)), end = '')"
   ]
  },
  {
   "cell_type": "code",
   "execution_count": 7,
   "metadata": {},
   "outputs": [],
   "source": [
    "# Function to check constraints\n",
    "def isConstraintSatisfactory(chessBoard):\n",
    "    for myIndex, myValue in enumerate(chessBoard):\n",
    "        if myValue == 1: # Queen found\n",
    "            for myPairIndex, myPairValue in enumerate(chessBoard):\n",
    "                if myPairValue == 1 and myPairIndex != myIndex: # Queen check\n",
    "                    #print('Debug: Check ' + str(myIndex) + ' vs ' + str(myPairIndex))\n",
    "                    if isConstraintSatisfactoryLocal(chessBoard, myIndex, myPairIndex) is False:\n",
    "                        return False\n",
    "    return True   "
   ]
  },
  {
   "cell_type": "code",
   "execution_count": 8,
   "metadata": {},
   "outputs": [],
   "source": [
    "# Count constraints violations\n",
    "def countConstraintSatisfactory(chessBoard):\n",
    "    violations = 0\n",
    "    for myIndex, myValue in enumerate(chessBoard):\n",
    "        if myValue == 1: # Queen found\n",
    "            for myPairIndex, myPairValue in enumerate(chessBoard):\n",
    "                if myPairValue == 1 and myPairIndex != myIndex: # Queen check\n",
    "                    #print('Debug: Check ' + str(myIndex) + ' vs ' + str(myPairIndex))\n",
    "                    if isConstraintSatisfactoryLocal(chessBoard, myIndex, myPairIndex) is False:\n",
    "                        violations = violations + 1\n",
    "    if violations > 0:\n",
    "        violations = violations / 2\n",
    "    return violations"
   ]
  },
  {
   "cell_type": "code",
   "execution_count": 9,
   "metadata": {},
   "outputs": [],
   "source": [
    "# Function to check constraints between x and y\n",
    "def isConstraintSatisfactoryLocal(chessBoard, x, y):\n",
    "    boardSize = int(math.sqrt(len(chessBoard)))\n",
    "    xRow = int (x/boardSize)\n",
    "    xColumn = int (x%boardSize)\n",
    "    yRow = int (y/boardSize)\n",
    "    yColumn = int (y%boardSize)\n",
    "    #print('Debug: Check ' + str(x) + ' ('+str(xRow)+','+str(xColumn)+')  vs ' + str(y) + ' ('+str(yRow)+','+str(yColumn)+')')\n",
    "    if xRow == yRow:\n",
    "        return False\n",
    "    if xColumn == yColumn:\n",
    "        return False\n",
    "    inBoard = lambda e: boardSize if e > boardSize else 0 if e < 0 else e\n",
    "    \n",
    "    for colisionNumber in list(range(-1*boardSize,boardSize)):\n",
    "        if xRow == yRow + colisionNumber and xColumn == yColumn + colisionNumber:\n",
    "            #print('Debug: Colided!')\n",
    "            return False\n",
    "        if xRow == yRow - colisionNumber and xColumn == yColumn + colisionNumber:\n",
    "            #print('Debug: Colided!')\n",
    "            return False\n",
    "    \n",
    "    return True    "
   ]
  },
  {
   "cell_type": "code",
   "execution_count": 10,
   "metadata": {},
   "outputs": [],
   "source": [
    "# Function that returns the fitness of a chessboard based on the number of queens\n",
    "def fitnessQueens(chessBoard):\n",
    "    if isConstraintSatisfactory(chessBoard):\n",
    "        return chessBoard.count(1)\n",
    "    else:\n",
    "        return 0"
   ]
  },
  {
   "cell_type": "code",
   "execution_count": 11,
   "metadata": {},
   "outputs": [],
   "source": [
    "# Function that returns the fitness of a chessboard based on the number of violations\n",
    "def fitness(chessBoard):\n",
    "    return countConstraintSatisfactory(chessBoard)"
   ]
  },
  {
   "cell_type": "code",
   "execution_count": 12,
   "metadata": {},
   "outputs": [],
   "source": [
    "# Sort population\n",
    "def sortPopulation(population):\n",
    "    population.sort(key=lambda x: fitness(x))\n",
    "    return population"
   ]
  },
  {
   "cell_type": "code",
   "execution_count": 13,
   "metadata": {},
   "outputs": [],
   "source": [
    "# Tournament selection\n",
    "def tournament(population, k):\n",
    "    candidate1 = copy.deepcopy(population[random.randrange(len(population))])\n",
    "    for i in range(k):\n",
    "        while True:\n",
    "            candidate2 = copy.deepcopy(population[random.randrange(len(population))])\n",
    "            if candidate1 != candidate2:\n",
    "                break\n",
    "    if fitness(candidate2) < fitness(candidate1):\n",
    "        return candidate2\n",
    "    else:\n",
    "        return candidate1"
   ]
  },
  {
   "cell_type": "code",
   "execution_count": 14,
   "metadata": {},
   "outputs": [],
   "source": [
    "# Crossover\n",
    "def crossover(parent1, parent2):\n",
    "    cut1 = random.randrange(len(parent1))\n",
    "    cut2 = random.randrange(len(parent1))\n",
    "    if cut1 == cut2:\n",
    "        return parent1, parent2\n",
    "    if cut1 > cut2:\n",
    "        cuttmp = cut1\n",
    "        cut1 = cut2\n",
    "        cut2 = cuttmp\n",
    "    #print('%i - %i' %(cut1, cut2))\n",
    "    child1 = parent1[0:cut1]+parent2[cut1:cut2]+parent1[cut2:]\n",
    "    child2 = parent2[0:cut1]+parent1[cut1:cut2]+parent2[cut2:]\n",
    "    return child1, child2"
   ]
  },
  {
   "cell_type": "code",
   "execution_count": 15,
   "metadata": {},
   "outputs": [],
   "source": [
    "# Mutation flip position\n",
    "def mutateFlipPosition(individual):\n",
    "    flipsCount = random.randrange(maxNumberOfRandFlips)\n",
    "    if flipsCount == 0:\n",
    "        flipsCount = 1\n",
    "    for flips in range(flipsCount):\n",
    "        while True:\n",
    "            randFlip = random.randrange(len(individual))\n",
    "            if individual[randFlip] == 0:\n",
    "                individual[randFlip] = 1\n",
    "                break\n",
    "        while True:\n",
    "            randFlip = random.randrange(len(individual))\n",
    "            if individual[randFlip] == 1:\n",
    "                individual[randFlip] = 0\n",
    "                break"
   ]
  },
  {
   "cell_type": "code",
   "execution_count": 16,
   "metadata": {},
   "outputs": [],
   "source": [
    "# Fix chess board queens count\n",
    "def fixChessBoard(individual):\n",
    "    while individual.count(1) > chessBoardSize:\n",
    "        randFlip = random.randrange(len(individual))\n",
    "        if individual[randFlip] == 1:\n",
    "            individual[randFlip] = 0\n",
    "\n",
    "    while individual.count(1) < chessBoardSize:\n",
    "        randFlip = random.randrange(len(individual))\n",
    "        if individual[randFlip] == 0:\n",
    "            individual[randFlip] = 1"
   ]
  },
  {
   "cell_type": "code",
   "execution_count": 17,
   "metadata": {},
   "outputs": [],
   "source": [
    "# Definitions\n",
    "chessBoardSize = 8 # Board size\n",
    "maxRandomQueens = 8 # Just for random gereration, does not limit the algorithm\n",
    "halfPopulationSize = 50 # Half population of a generation\n",
    "tournamentRounds = 1 # Rounds of tournament selection\n",
    "chanceToMutate = 0.9 # Probability to mutate\n",
    "maxNumberOfRandFlips = 2 # How many positions can be fliped\n",
    "generations = 500 # How many generations"
   ]
  },
  {
   "cell_type": "markdown",
   "metadata": {},
   "source": [
    "### Main program"
   ]
  },
  {
   "cell_type": "code",
   "execution_count": 21,
   "metadata": {},
   "outputs": [],
   "source": [
    "# Generate initial random population\n",
    "# Phenotype representation as a List\n",
    "population = []\n",
    "for individual in list(range(halfPopulationSize)):\n",
    "    randChessBoard = fullRandomChessBoard()\n",
    "    population.append(randChessBoard)"
   ]
  },
  {
   "cell_type": "code",
   "execution_count": 22,
   "metadata": {},
   "outputs": [],
   "source": [
    "# Main generations loop\n",
    "genFitnessLog = []\n",
    "random.seed()\n",
    "\n",
    "for gen in range(generations):\n",
    "\n",
    "    # Next generation\n",
    "    newPopulation = []\n",
    "    \n",
    "    # Crossover population until it reaches full size\n",
    "    while len(newPopulation) < halfPopulationSize * 2:\n",
    "        parent1 = tournament(population, tournamentRounds)\n",
    "        parent2 = tournament(population, tournamentRounds)\n",
    "        child1, child2 = crossover(parent1, parent2)\n",
    "        fixChessBoard(child1)\n",
    "        fixChessBoard(child2)\n",
    "        newPopulation.append(child1)\n",
    "        newPopulation.append(child2)\n",
    "        newPopulation.append(parent1)\n",
    "        newPopulation.append(parent2)\n",
    "\n",
    "    # Mutate some individuals (not the first)\n",
    "    for i in range(len(newPopulation)):\n",
    "        if random.random() <= chanceToMutate:\n",
    "            mutateFlipPosition(newPopulation[i])\n",
    "\n",
    "    # Complete with random individuals\n",
    "    #while len(population) < halfPopulationSize * 2:\n",
    "    #    randChessBoard = fullRandomChessBoard()\n",
    "    #    population.append(randChessBoard)\n",
    "        \n",
    "    # Sort population according to fitness\n",
    "    newPopulation = sortPopulation(newPopulation)\n",
    "    \n",
    "    # Print generation fitness\n",
    "    genFitness = fitness(newPopulation[0])\n",
    "    genFitnessLog.append(fitness(newPopulation[0]))\n",
    "    #print('Gen %i fitness 0=%i size %i' %(gen, genFitness, len(newPopulation)))\n",
    "    \n",
    "    # Next generation\n",
    "    population = []\n",
    "    \n",
    "    for i in range(halfPopulationSize):\n",
    "        population.append(newPopulation[i])\n",
    "\n",
    "    if genFitness == 0:\n",
    "        break\n",
    "        "
   ]
  },
  {
   "cell_type": "markdown",
   "metadata": {},
   "source": [
    "### Results"
   ]
  },
  {
   "cell_type": "code",
   "execution_count": 23,
   "metadata": {},
   "outputs": [
    {
     "name": "stdout",
     "output_type": "stream",
     "text": [
      "Found a chessboard with fitness 0 (With 0 Constraint Violations). It runned for 34 generations.\n",
      "---\n",
      "|_||_||_||_||_||_||X||_|\n",
      "|_||_||X||_||_||_||_||_|\n",
      "|X||_||_||_||_||_||_||_|\n",
      "|_||_||_||_||_||X||_||_|\n",
      "|_||_||_||_||_||_||_||X|\n",
      "|_||_||_||_||X||_||_||_|\n",
      "|_||X||_||_||_||_||_||_|\n",
      "|_||_||_||X||_||_||_||_|\n",
      "---\n"
     ]
    },
    {
     "data": {
      "image/png": "[encoded data removed]",
      "text/plain": [
       "<Figure size 432x288 with 1 Axes>"
      ]
     },
     "metadata": {
      "needs_background": "light"
     },
     "output_type": "display_data"
    }
   ],
   "source": [
    "# Show results\n",
    "print('Found a chessboard with fitness %i (With %i Constraint Violations). It runned for %i generations.' %(fitness(population[0]), fitness(population[0]), len(genFitnessLog)-1))\n",
    "print('---')\n",
    "printChessBoard(population[0])\n",
    "print('---')\n",
    "\n",
    "# Plot evolution\n",
    "plt.plot(genFitnessLog)\n",
    "plt.title('Evolution')\n",
    "plt.ylabel('Constraint Violations')\n",
    "plt.xlabel('Generations')\n",
    "\n",
    "plt.show()"
   ]
  },
  {
   "cell_type": "markdown",
   "metadata": {},
   "source": [
    "Comments\n",
    "\n",
    "The algorithm is an implementation of a mono-objective genetic algorithm and is explained through the comments I put along the code.\n",
    "\n",
    "Initially I tried a strategy of starting with an empty board and inserting queens randomly as long as it didn't violate any constraints. This way, the population had only valid individuals and the fitness function to be maximized was the number of queens on the board. With this strategy, I found that the algorithm quickly reached a situation with 7 queens on the board but struggled to evolve to a board with 8 queens. After experimenting with the parameters of this strategy, I noticed that numerous individuals (1000) were needed for the algorithm to converge to 8 queens.\n",
    "\n",
    "So, I changed the strategy so that all individuals in the generation had 8 queens and the fitness function to be minimized became the number of collisions between the queens. In this new strategy, the algorithm behaved more efficiently, finding a valid position with 8 queens faster. * As the delivered version is changed, it has some functions that are no longer used, but are illustrative to demonstrate the evolution of the adopted strategy.\n",
    "\n",
    "With the exercise, it became clear that the strategy used to generate individuals and calculate fitness influences the convergence capacity of the genetic algorithm, and a strategy may have better results depending on each problem addressed."
   ]
  }
 ],
 "metadata": {
  "kernelspec": {
   "display_name": "Python 3",
   "language": "python",
   "name": "python3"
  },
  "language_info": {
   "codemirror_mode": {
    "name": "ipython",
    "version": 3
   },
   "file_extension": ".py",
   "mimetype": "text/x-python",
   "name": "python",
   "nbconvert_exporter": "python",
   "pygments_lexer": "ipython3",
   "version": "3.7.6"
  }
 },
 "nbformat": 4,
 "nbformat_minor": 2
}
